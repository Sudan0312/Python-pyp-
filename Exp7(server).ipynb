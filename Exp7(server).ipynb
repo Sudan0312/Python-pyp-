{
  "metadata": {
    "kernelspec": {
      "name": "python",
      "display_name": "Python (Pyodide)",
      "language": "python"
    },
    "language_info": {
      "codemirror_mode": {
        "name": "python",
        "version": 3
      },
      "file_extension": ".py",
      "mimetype": "text/x-python",
      "name": "python",
      "nbconvert_exporter": "python",
      "pygments_lexer": "ipython3",
      "version": "3.8"
    }
  },
  "nbformat_minor": 5,
  "nbformat": 4,
  "cells": [
    {
      "id": "b98f50d0-fe15-46ab-a3bb-c570db80eeff",
      "cell_type": "markdown",
      "source": "### Name: Sudan Tiwari,  Roll No: 76\n### Experiment No: 7\n### Client",
      "metadata": {}
    },
    {
      "id": "4cb3b4da-646f-490f-a898-0c06e53ab49e",
      "cell_type": "code",
      "source": "import socket, threading\n\nPORT = 5050\nSERVER = socket.gethostbyname (socket.gethostname ())\nADDR = (SERVER, PORT)\nFORMAT = 'utf-8'\nHEADER = 64\nDISCONNECT_MESSAGE = '!DISCONNECT'\n\nserver = socket.socket (socket.AF_INET, socket.SOCK_STREAM)\nserver.bind (ADDR)\n\ndef clientHandling (connection, address):\n    print (f'[NEW CONNECTION] {address} connected')\n    isConnected = True\n    while isConnected:\n        messageLength = connection.recv (HEADER).decode (FORMAT)\n        if messageLength:\n            messageLength = int (messageLength)\n            message = connection.recv (messageLength).decode (FORMAT)\n            if message == DISCONNECT_MESSAGE:\n                isConnected = False\n            print (f'[{address}] {message}')\n            connection.send ('Message Recieved'.encode (FORMAT))\n    connection.close ()\n\ndef start ():\n    server.listen ()\n    print (f'[LISTENING] Server is listening on {SERVER}')\n    while True:\n        connection, address = server.accept ()\n        thread = threading.Thread (target=clientHandling, args=(connection, address))\n        thread.start ()\n        print (f'[ACTIVE CONNECTION] {threading.active_count () - 1}')\n\nprint ('[SERVER STARTING] server has been started')\nstart ()",
      "metadata": {},
      "outputs": [
        {
          "name": "stdout",
          "output_type": "stream",
          "text": "[SERVER STARTING] server has been started\n,[LISTENING] Server is listening on 192.168.75.1\n,[NEW CONNECTION] ('192.168.75.1', 54293) connected[ACTIVE CONNECTION] 6\n,\n,[('192.168.75.1', 54293)] Hello World\n,[('192.168.75.1', 54293)] !DISCONNECT\n"
        }
      ],
      "execution_count": null
    },
    {
      "id": "bc53a5dd-5578-440a-ae9c-d471b8db13e8",
      "cell_type": "code",
      "source": "",
      "metadata": {},
      "outputs": [],
      "execution_count": null
    }
  ]
}