{
  "metadata": {
    "kernelspec": {
      "name": "python",
      "display_name": "Python (Pyodide)",
      "language": "python"
    },
    "language_info": {
      "codemirror_mode": {
        "name": "python",
        "version": 3
      },
      "file_extension": ".py",
      "mimetype": "text/x-python",
      "name": "python",
      "nbconvert_exporter": "python",
      "pygments_lexer": "ipython3",
      "version": "3.8"
    }
  },
  "nbformat_minor": 5,
  "nbformat": 4,
  "cells": [
    {
      "id": "66ae07fe-73e1-4ec9-98eb-0dc527fa8737",
      "cell_type": "code",
      "source": "### Experiment 4",
      "metadata": {
        "trusted": true
      },
      "outputs": [],
      "execution_count": null
    },
    {
      "id": "6dca05a7-3b79-4ef2-b429-bf6f66e887a3",
      "cell_type": "code",
      "source": "import os\n\nfiles = [f for f in os.listdir('.') if os.path.isfile(f)]\n\nprint(\"Files in the current directory:\")\nfor file in files:\n    print(file)\n",
      "metadata": {
        "trusted": true
      },
      "outputs": [
        {
          "name": "stdout",
          "output_type": "stream",
          "text": "Files in the current directory:\nExperiment2.ipynb\nExperiment3.ipynb\nFile.txt\nIntro.ipynb\nUntitled2.ipynb\nUntitled3.ipynb\nUntitled8.ipynb\nuntitled.py\nuntitled4.py\nLorenz.ipynb\nsqlite.ipynb\n"
        }
      ],
      "execution_count": 2
    },
    {
      "id": "01e29c24-b2ef-4e30-bc80-f604b765d1c4",
      "cell_type": "code",
      "source": "from pathlib import Path\n\nfiles = [f.name for f in Path('.').iterdir() if f.is_file()]\n\nprint(\"Files in the current directory:\")\nfor file in files:\n    print(file)\n",
      "metadata": {
        "trusted": true
      },
      "outputs": [
        {
          "name": "stdout",
          "output_type": "stream",
          "text": "Files in the current directory:\nExperiment2.ipynb\nExperiment3.ipynb\nFile.txt\nIntro.ipynb\nUntitled2.ipynb\nUntitled3.ipynb\nUntitled8.ipynb\nuntitled.py\nuntitled4.py\nLorenz.ipynb\nsqlite.ipynb\n"
        }
      ],
      "execution_count": 3
    },
    {
      "id": "17198dbe-eb43-4049-abe7-f91b203c263d",
      "cell_type": "code",
      "source": "",
      "metadata": {
        "trusted": true
      },
      "outputs": [],
      "execution_count": null
    }
  ]
}