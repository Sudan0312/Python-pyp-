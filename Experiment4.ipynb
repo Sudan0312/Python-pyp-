{
 "cells": [
  {
   "cell_type": "markdown",
   "id": "4b9e8acf-ce0d-4def-b68c-bf97924131d3",
   "metadata": {},
   "source": [
    "## Name: Sudan Tiwari,   Roll No: 76"
   ]
  },
  {
   "cell_type": "markdown",
   "id": "d6afcdb6-17ec-4780-8f17-20b4120a3448",
   "metadata": {},
   "source": [
    "### Experiment No: 4"
   ]
  },
  {
   "cell_type": "code",
   "execution_count": null,
   "id": "1a36e3d0-411e-4a4d-ba38-5e2cdfb01809",
   "metadata": {},
   "outputs": [],
   "source": []
  },
  {
   "cell_type": "code",
   "execution_count": 2,
   "id": "6dca05a7-3b79-4ef2-b429-bf6f66e887a3",
   "metadata": {},
   "outputs": [
    {
     "name": "stdout",
     "output_type": "stream",
     "text": [
      "Files in the current directory:\n",
      "Experiment2.ipynb\n",
      "Experiment3.ipynb\n",
      "File.txt\n",
      "Intro.ipynb\n",
      "Untitled2.ipynb\n",
      "Untitled3.ipynb\n",
      "Untitled8.ipynb\n",
      "untitled.py\n",
      "untitled4.py\n",
      "Lorenz.ipynb\n",
      "sqlite.ipynb\n"
     ]
    }
   ],
   "source": [
    "import os\n",
    "\n",
    "files = [f for f in os.listdir('.') if os.path.isfile(f)]\n",
    "\n",
    "print(\"Files in the current directory:\")\n",
    "for file in files:\n",
    "    print(file)\n"
   ]
  },
  {
   "cell_type": "code",
   "execution_count": 3,
   "id": "01e29c24-b2ef-4e30-bc80-f604b765d1c4",
   "metadata": {},
   "outputs": [
    {
     "name": "stdout",
     "output_type": "stream",
     "text": [
      "Files in the current directory:\n",
      "Experiment2.ipynb\n",
      "Experiment3.ipynb\n",
      "File.txt\n",
      "Intro.ipynb\n",
      "Untitled2.ipynb\n",
      "Untitled3.ipynb\n",
      "Untitled8.ipynb\n",
      "untitled.py\n",
      "untitled4.py\n",
      "Lorenz.ipynb\n",
      "sqlite.ipynb\n"
     ]
    }
   ],
   "source": [
    "from pathlib import Path\n",
    "\n",
    "files = [f.name for f in Path('.').iterdir() if f.is_file()]\n",
    "\n",
    "print(\"Files in the current directory:\")\n",
    "for file in files:\n",
    "    print(file)\n"
   ]
  },
  {
   "cell_type": "code",
   "execution_count": null,
   "id": "17198dbe-eb43-4049-abe7-f91b203c263d",
   "metadata": {},
   "outputs": [],
   "source": []
  }
 ],
 "metadata": {
  "kernelspec": {
   "display_name": "Python [conda env:base] *",
   "language": "python",
   "name": "conda-base-py"
  },
  "language_info": {
   "codemirror_mode": {
    "name": "ipython",
    "version": 3
   },
   "file_extension": ".py",
   "mimetype": "text/x-python",
   "name": "python",
   "nbconvert_exporter": "python",
   "pygments_lexer": "ipython3",
   "version": "3.12.7"
  }
 },
 "nbformat": 4,
 "nbformat_minor": 5
}
