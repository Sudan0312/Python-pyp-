{
  "metadata": {
    "kernelspec": {
      "name": "python",
      "display_name": "Python (Pyodide)",
      "language": "python"
    },
    "language_info": {
      "codemirror_mode": {
        "name": "python",
        "version": 3
      },
      "file_extension": ".py",
      "mimetype": "text/x-python",
      "name": "python",
      "nbconvert_exporter": "python",
      "pygments_lexer": "ipython3",
      "version": "3.8"
    }
  },
  "nbformat_minor": 5,
  "nbformat": 4,
  "cells": [
    {
      "id": "b9aad1cd-5a07-4c78-abb7-dc3a793bfead",
      "cell_type": "markdown",
      "source": "### Name: Sudan Tiwari,  Roll No: 76\n### Experiment No: 7\n### Client\n",
      "metadata": {}
    },
    {
      "id": "baa6e2e0-6431-4930-93d7-fe723fbc587d",
      "cell_type": "code",
      "source": "import socket\n\nPORT = 5050\n#SERVER = ''\nSERVER = socket.gethostbyname (socket.gethostname ())\nADDR = (SERVER, PORT)\nFORMAT = 'utf-8'\nHEADER = 64\nDISCONNECT_MESSAGE = '!DISCONNECT'\n\nclient = socket.socket (socket.AF_INET, socket.SOCK_STREAM)\nclient.connect (ADDR)\n\ndef send (messages):\n    message = messages.encode (FORMAT)\n    messageLength = len (message)\n    sendLength = str (messageLength).encode (FORMAT)\n    sendLength += b' ' * (HEADER - len (sendLength))\n    client.send (sendLength)\n    client.send (message)\n    print (client.recv (2045).decode (FORMAT))\n\nif __name__ == '__main__':\n    send ('Hello World')\n    send (DISCONNECT_MESSAGE)",
      "metadata": {},
      "outputs": [
        {
          "name": "stdout",
          "output_type": "stream",
          "text": "Message Recieved\n,Message Recieved\n"
        }
      ],
      "execution_count": 1
    },
    {
      "id": "9c76b620-6abc-42d8-8fe4-baef6de5b454",
      "cell_type": "code",
      "source": "",
      "metadata": {},
      "outputs": [],
      "execution_count": null
    }
  ]
}