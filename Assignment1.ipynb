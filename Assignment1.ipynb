{
  "nbformat": 4,
  "nbformat_minor": 0,
  "metadata": {
    "colab": {
      "provenance": []
    },
    "kernelspec": {
      "name": "python3",
      "display_name": "Python 3"
    },
    "language_info": {
      "name": "python"
    }
  },
  "cells": [
    {
      "cell_type": "markdown",
      "source": [
        "**Name:  Sudan Tiwari**\n",
        "\n",
        "\n",
        "---\n",
        "\n",
        "**Roll** **No**:**76**\n",
        "\n",
        "---\n",
        "\n"
      ],
      "metadata": {
        "id": "eUOvYghDTa_K"
      }
    },
    {
      "cell_type": "code",
      "execution_count": 1,
      "metadata": {
        "colab": {
          "base_uri": "https://localhost:8080/"
        },
        "id": "NsLlD3h3-4nO",
        "outputId": "135b69dd-be6a-4ab6-a9c0-6e9f83c37011"
      },
      "outputs": [
        {
          "output_type": "stream",
          "name": "stdout",
          "text": [
            "\n",
            "1. Add a new product\n",
            "2. Update the stock of an existing product\n",
            "3. Display the details of a product\n",
            "4. Exit the program\n",
            "Enter your choice (1-4): 1\n",
            "Enter product name: Pen\n",
            "Enter product price: 20\n",
            "Enter product stock: 2\n",
            "Product added successfully!\n",
            "\n",
            "1. Add a new product\n",
            "2. Update the stock of an existing product\n",
            "3. Display the details of a product\n",
            "4. Exit the program\n",
            "Enter your choice (1-4): 3\n",
            "Enter product name: Pen\n",
            "Product: Pen, Price: $20.00, Stock: 2\n",
            "\n",
            "1. Add a new product\n",
            "2. Update the stock of an existing product\n",
            "3. Display the details of a product\n",
            "4. Exit the program\n",
            "Enter your choice (1-4): 2\n",
            "Enter product name to update: Pen\n",
            "Enter quantity to add/remove: 4\n",
            "Stock updated successfully! Current stock: 6\n",
            "\n",
            "1. Add a new product\n",
            "2. Update the stock of an existing product\n",
            "3. Display the details of a product\n",
            "4. Exit the program\n",
            "Enter your choice (1-4): 3\n",
            "Enter product name: Pen\n",
            "Product: Pen, Price: $20.00, Stock: 6\n",
            "\n",
            "1. Add a new product\n",
            "2. Update the stock of an existing product\n",
            "3. Display the details of a product\n",
            "4. Exit the program\n",
            "Enter your choice (1-4): 4\n",
            "Exiting the system. Goodbye!\n"
          ]
        }
      ],
      "source": [
        "class Product:\n",
        "    def __init__(self, name, price, stock):\n",
        "        self.name = name\n",
        "        self.price = price\n",
        "        self.stock = stock\n",
        "\n",
        "    def update_stock(self, quantity):\n",
        "        self.stock += quantity\n",
        "        print(f\"Stock updated successfully! Current stock: {self.stock}\")\n",
        "\n",
        "    def __str__(self):\n",
        "        return f\"Product: {self.name}, Price: ${self.price:.2f}, Stock: {self.stock}\"\n",
        "\n",
        "\n",
        "products = {}\n",
        "\n",
        "def main():\n",
        "    while True:\n",
        "        print(\"\\n1. Add a new product\\n2. Update the stock of an existing product\\n3. Display the details of a product\\n4. Exit the program\")\n",
        "        choice = input(\"Enter your choice (1-4): \")\n",
        "\n",
        "        if choice == '1':\n",
        "            name = input(\"Enter product name: \")\n",
        "            price = float(input(\"Enter product price: \"))\n",
        "            stock = int(input(\"Enter product stock: \"))\n",
        "            products[name] = Product(name, price, stock)\n",
        "            print(\"Product added successfully!\")\n",
        "\n",
        "        elif choice == '2':\n",
        "            name = input(\"Enter product name to update: \")\n",
        "            if name in products:\n",
        "                quantity = int(input(\"Enter quantity to add/remove: \"))\n",
        "                products[name].update_stock(quantity)\n",
        "            else:\n",
        "                print(\"Product not found!\")\n",
        "\n",
        "        elif choice == '3':\n",
        "            name = input(\"Enter product name: \")\n",
        "            if name in products:\n",
        "                print(products[name])\n",
        "            else:\n",
        "                print(\"Product not found!\")\n",
        "\n",
        "        elif choice == '4':\n",
        "            print(\"Exiting the system. Goodbye!\")\n",
        "            break\n",
        "        else:\n",
        "            print(\"Invalid choice! Please try again.\")\n",
        "\n",
        "if __name__ == \"__main__\":\n",
        "    main()\n"
      ]
    }
  ]
}