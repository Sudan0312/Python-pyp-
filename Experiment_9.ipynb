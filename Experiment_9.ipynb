{
  "nbformat": 4,
  "nbformat_minor": 0,
  "metadata": {
    "colab": {
      "provenance": []
    },
    "kernelspec": {
      "name": "python3",
      "display_name": "Python 3"
    },
    "language_info": {
      "name": "python"
    }
  },
  "cells": [
    {
      "cell_type": "markdown",
      "source": [
        "## **Name: Sudan Tiwari,     Roll No:76**\n"
      ],
      "metadata": {
        "id": "du6MY3zsif7d"
      }
    },
    {
      "cell_type": "markdown",
      "source": [
        "### **Experiment No: 9**"
      ],
      "metadata": {
        "id": "McUX-GQdiga-"
      }
    },
    {
      "cell_type": "code",
      "source": [
        "import numpy as np"
      ],
      "metadata": {
        "id": "BP9YuCgWjbjo"
      },
      "execution_count": 1,
      "outputs": []
    },
    {
      "cell_type": "markdown",
      "source": [
        "### **1. Array Creation Techniques**"
      ],
      "metadata": {
        "id": "nmln--M-jE_n"
      }
    },
    {
      "cell_type": "code",
      "source": [
        "print(\"1. Array Creation Techniques\")"
      ],
      "metadata": {
        "colab": {
          "base_uri": "https://localhost:8080/"
        },
        "id": "aAocedDijmIG",
        "outputId": "609eb0ae-25e0-4bda-9ca4-f9faa32d8180"
      },
      "execution_count": 2,
      "outputs": [
        {
          "output_type": "stream",
          "name": "stdout",
          "text": [
            "1. Array Creation Techniques\n"
          ]
        }
      ]
    },
    {
      "cell_type": "markdown",
      "source": [
        "### a. Creating an array from a list"
      ],
      "metadata": {
        "id": "CU5d2uLSjqwu"
      }
    },
    {
      "cell_type": "code",
      "source": [
        "array_from_list = np.array([1, 2, 3, 4, 5])\n",
        "array_from_list"
      ],
      "metadata": {
        "colab": {
          "base_uri": "https://localhost:8080/"
        },
        "id": "2J3gW_qOjv62",
        "outputId": "c2e4ac69-890a-4e6b-cdea-00d51b8fdc17"
      },
      "execution_count": 3,
      "outputs": [
        {
          "output_type": "execute_result",
          "data": {
            "text/plain": [
              "array([1, 2, 3, 4, 5])"
            ]
          },
          "metadata": {},
          "execution_count": 3
        }
      ]
    },
    {
      "cell_type": "markdown",
      "source": [
        "###  b. Using arange()"
      ],
      "metadata": {
        "id": "mYgmruiekDN1"
      }
    },
    {
      "cell_type": "code",
      "source": [
        "array_arange = np.arange(0, 10, 2)\n",
        "array_arange"
      ],
      "metadata": {
        "colab": {
          "base_uri": "https://localhost:8080/"
        },
        "id": "5Iqkiw9Lj8fl",
        "outputId": "5973d702-1f76-4959-da41-705a370abb5d"
      },
      "execution_count": 4,
      "outputs": [
        {
          "output_type": "execute_result",
          "data": {
            "text/plain": [
              "array([0, 2, 4, 6, 8])"
            ]
          },
          "metadata": {},
          "execution_count": 4
        }
      ]
    },
    {
      "cell_type": "markdown",
      "source": [
        "### c. Using linspace()"
      ],
      "metadata": {
        "id": "JndYkgOPkHIu"
      }
    },
    {
      "cell_type": "code",
      "source": [
        "array_linspace = np.linspace(0, 10, 5)\n",
        "array_linspace"
      ],
      "metadata": {
        "colab": {
          "base_uri": "https://localhost:8080/"
        },
        "id": "aHx1I5v5kX8-",
        "outputId": "0a1ad666-3615-4fd6-a8f9-1746a65c0e4b"
      },
      "execution_count": 5,
      "outputs": [
        {
          "output_type": "execute_result",
          "data": {
            "text/plain": [
              "array([ 0. ,  2.5,  5. ,  7.5, 10. ])"
            ]
          },
          "metadata": {},
          "execution_count": 5
        }
      ]
    },
    {
      "cell_type": "markdown",
      "source": [
        "### d. Using zeros()"
      ],
      "metadata": {
        "id": "gDxsUSbukeze"
      }
    },
    {
      "cell_type": "code",
      "source": [
        "array_zeros = np.zeros((3, 3))\n",
        "array_zeros"
      ],
      "metadata": {
        "colab": {
          "base_uri": "https://localhost:8080/"
        },
        "id": "xhrqiXHfkgwm",
        "outputId": "06add5c9-fd9a-494a-bc54-bda5caf36980"
      },
      "execution_count": 6,
      "outputs": [
        {
          "output_type": "execute_result",
          "data": {
            "text/plain": [
              "array([[0., 0., 0.],\n",
              "       [0., 0., 0.],\n",
              "       [0., 0., 0.]])"
            ]
          },
          "metadata": {},
          "execution_count": 6
        }
      ]
    },
    {
      "cell_type": "markdown",
      "source": [
        "### e. Using ones()"
      ],
      "metadata": {
        "id": "Se7d74DgkmYu"
      }
    },
    {
      "cell_type": "code",
      "source": [
        "array_ones = np.ones((2, 2))\n",
        "array_ones"
      ],
      "metadata": {
        "colab": {
          "base_uri": "https://localhost:8080/"
        },
        "id": "bBPCFjAZkod2",
        "outputId": "8b042b45-1bbe-4586-b6be-4f3e29d9ac5f"
      },
      "execution_count": 7,
      "outputs": [
        {
          "output_type": "execute_result",
          "data": {
            "text/plain": [
              "array([[1., 1.],\n",
              "       [1., 1.]])"
            ]
          },
          "metadata": {},
          "execution_count": 7
        }
      ]
    },
    {
      "cell_type": "markdown",
      "source": [
        "### f. Using eye() for identity matrix"
      ],
      "metadata": {
        "id": "hp-TFt_VlDxu"
      }
    },
    {
      "cell_type": "code",
      "source": [
        "array_eye = np.eye(3)\n",
        "array_eye"
      ],
      "metadata": {
        "colab": {
          "base_uri": "https://localhost:8080/"
        },
        "id": "XQxAhIJllGsG",
        "outputId": "919253cb-e589-4716-c7dc-9e93a393fbc2"
      },
      "execution_count": 8,
      "outputs": [
        {
          "output_type": "execute_result",
          "data": {
            "text/plain": [
              "array([[1., 0., 0.],\n",
              "       [0., 1., 0.],\n",
              "       [0., 0., 1.]])"
            ]
          },
          "metadata": {},
          "execution_count": 8
        }
      ]
    },
    {
      "cell_type": "markdown",
      "source": [
        "### g. Using random() for random values"
      ],
      "metadata": {
        "id": "nu1eMCnXlUhG"
      }
    },
    {
      "cell_type": "code",
      "source": [
        "array_random = np.random.random((3, 3))\n",
        "array_random"
      ],
      "metadata": {
        "colab": {
          "base_uri": "https://localhost:8080/"
        },
        "id": "BLA8liBFlWE2",
        "outputId": "845ae916-8099-4d12-aa1f-63ce81c71fbb"
      },
      "execution_count": 9,
      "outputs": [
        {
          "output_type": "execute_result",
          "data": {
            "text/plain": [
              "array([[0.8682287 , 0.03621809, 0.23481396],\n",
              "       [0.45631886, 0.6746304 , 0.19709678],\n",
              "       [0.42031677, 0.0638646 , 0.09694301]])"
            ]
          },
          "metadata": {},
          "execution_count": 9
        }
      ]
    },
    {
      "cell_type": "markdown",
      "source": [
        "### **2. Different NumPy Methods**"
      ],
      "metadata": {
        "id": "lm4K2Y7DlpU1"
      }
    },
    {
      "cell_type": "code",
      "source": [
        "print(\"\\n2. NumPy Methods\")"
      ],
      "metadata": {
        "colab": {
          "base_uri": "https://localhost:8080/"
        },
        "id": "f0RWDWcblq4d",
        "outputId": "65a1a0bf-67ca-41a0-e65a-bfa75c535b18"
      },
      "execution_count": 10,
      "outputs": [
        {
          "output_type": "stream",
          "name": "stdout",
          "text": [
            "\n",
            "2. NumPy Methods\n"
          ]
        }
      ]
    },
    {
      "cell_type": "markdown",
      "source": [
        "### a. Reshaping an array"
      ],
      "metadata": {
        "id": "ujW5SHcPlu9u"
      }
    },
    {
      "cell_type": "code",
      "source": [
        "reshaped_array = np.arange(1, 10).reshape(3, 3)\n",
        "reshaped_array"
      ],
      "metadata": {
        "colab": {
          "base_uri": "https://localhost:8080/"
        },
        "id": "5sWylCkul23m",
        "outputId": "e6f1e352-23ea-44bb-d53f-ecf456f76598"
      },
      "execution_count": 11,
      "outputs": [
        {
          "output_type": "execute_result",
          "data": {
            "text/plain": [
              "array([[1, 2, 3],\n",
              "       [4, 5, 6],\n",
              "       [7, 8, 9]])"
            ]
          },
          "metadata": {},
          "execution_count": 11
        }
      ]
    },
    {
      "cell_type": "markdown",
      "source": [
        "### b. Transposing an array"
      ],
      "metadata": {
        "id": "M9w06jWKl91d"
      }
    },
    {
      "cell_type": "code",
      "source": [
        "transposed_array = reshaped_array.T\n",
        "transposed_array"
      ],
      "metadata": {
        "colab": {
          "base_uri": "https://localhost:8080/"
        },
        "id": "qbNoyJAtmBR9",
        "outputId": "701ce172-3be5-421d-d561-80c120073ea8"
      },
      "execution_count": 12,
      "outputs": [
        {
          "output_type": "execute_result",
          "data": {
            "text/plain": [
              "array([[1, 4, 7],\n",
              "       [2, 5, 8],\n",
              "       [3, 6, 9]])"
            ]
          },
          "metadata": {},
          "execution_count": 12
        }
      ]
    },
    {
      "cell_type": "markdown",
      "source": [
        "### c. Mathematical operations"
      ],
      "metadata": {
        "id": "1Z94NglSmFft"
      }
    },
    {
      "cell_type": "code",
      "source": [
        "array_math = np.array([1, 2, 3])\n",
        "array_math + 2\n",
        "array_math * 3\n",
        "np.sqrt(array_math)"
      ],
      "metadata": {
        "colab": {
          "base_uri": "https://localhost:8080/"
        },
        "id": "ZfOWJU1lmJU2",
        "outputId": "0508355e-e4fa-4fce-cc67-968ca8ca7542"
      },
      "execution_count": 13,
      "outputs": [
        {
          "output_type": "execute_result",
          "data": {
            "text/plain": [
              "array([1.        , 1.41421356, 1.73205081])"
            ]
          },
          "metadata": {},
          "execution_count": 13
        }
      ]
    },
    {
      "cell_type": "markdown",
      "source": [
        "### d. Aggregation methods"
      ],
      "metadata": {
        "id": "YV595HGVmMcW"
      }
    },
    {
      "cell_type": "code",
      "source": [
        "np.sum(array_math)\n",
        "np.mean(array_math)\n",
        "np.max(array_math)\n",
        "np.min(array_math)"
      ],
      "metadata": {
        "colab": {
          "base_uri": "https://localhost:8080/"
        },
        "id": "PCL-Vx5smP9-",
        "outputId": "03a16baa-af83-47a7-9261-43d2c78fe2e2"
      },
      "execution_count": 14,
      "outputs": [
        {
          "output_type": "execute_result",
          "data": {
            "text/plain": [
              "np.int64(1)"
            ]
          },
          "metadata": {},
          "execution_count": 14
        }
      ]
    },
    {
      "cell_type": "markdown",
      "source": [
        "### e. Concatenation of arrays"
      ],
      "metadata": {
        "id": "rPFgPC3TmVbl"
      }
    },
    {
      "cell_type": "code",
      "source": [
        "array_a = np.array([1, 2, 3])\n",
        "array_b = np.array([4, 5, 6])\n",
        "concat_array = np.concatenate((array_a, array_b))\n",
        "concat_array"
      ],
      "metadata": {
        "colab": {
          "base_uri": "https://localhost:8080/"
        },
        "id": "CsrzWx75mZGv",
        "outputId": "2e22f4d7-1f9f-404a-93ff-900a2c420954"
      },
      "execution_count": 16,
      "outputs": [
        {
          "output_type": "execute_result",
          "data": {
            "text/plain": [
              "array([1, 2, 3, 4, 5, 6])"
            ]
          },
          "metadata": {},
          "execution_count": 16
        }
      ]
    },
    {
      "cell_type": "markdown",
      "source": [
        "### f. Sorting an array"
      ],
      "metadata": {
        "id": "W_uG-W6SmeGu"
      }
    },
    {
      "cell_type": "code",
      "source": [
        "unsorted_array = np.array([3, 1, 4, 2])\n",
        "sorted_array = np.sort(unsorted_array)\n",
        "sorted_array"
      ],
      "metadata": {
        "colab": {
          "base_uri": "https://localhost:8080/"
        },
        "id": "j4bMffPpmhPG",
        "outputId": "192ccc04-e7e1-44ac-99b4-6ee29e83d64f"
      },
      "execution_count": 17,
      "outputs": [
        {
          "output_type": "execute_result",
          "data": {
            "text/plain": [
              "array([1, 2, 3, 4])"
            ]
          },
          "metadata": {},
          "execution_count": 17
        }
      ]
    },
    {
      "cell_type": "markdown",
      "source": [
        "### g. Indexing and Slicing"
      ],
      "metadata": {
        "id": "LB7N_MyQmlj2"
      }
    },
    {
      "cell_type": "code",
      "source": [
        "indexed_value = array_math[1]  # Indexing\n",
        "indexed_value\n",
        "sliced_array = array_math[1:3]  # Slicing\n",
        "sliced_array"
      ],
      "metadata": {
        "colab": {
          "base_uri": "https://localhost:8080/"
        },
        "id": "nRcu73sEmpVO",
        "outputId": "c7db4b3a-d8bc-4ce0-9417-42c11c744fb1"
      },
      "execution_count": 18,
      "outputs": [
        {
          "output_type": "execute_result",
          "data": {
            "text/plain": [
              "array([2, 3])"
            ]
          },
          "metadata": {},
          "execution_count": 18
        }
      ]
    },
    {
      "cell_type": "markdown",
      "source": [
        "### h. Boolean Masking"
      ],
      "metadata": {
        "id": "sW0QWT-Qmst-"
      }
    },
    {
      "cell_type": "code",
      "source": [
        "boolean_mask = array_math > 2\n",
        "boolean_mask\n",
        "array_math[boolean_mask]"
      ],
      "metadata": {
        "colab": {
          "base_uri": "https://localhost:8080/"
        },
        "id": "mXU2os4AmuHm",
        "outputId": "068e9692-855a-4102-c0b0-a5bbe2b81519"
      },
      "execution_count": 19,
      "outputs": [
        {
          "output_type": "execute_result",
          "data": {
            "text/plain": [
              "array([3])"
            ]
          },
          "metadata": {},
          "execution_count": 19
        }
      ]
    }
  ]
}