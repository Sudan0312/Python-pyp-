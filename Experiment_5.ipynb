{
  "nbformat": 4,
  "nbformat_minor": 0,
  "metadata": {
    "colab": {
      "provenance": []
    },
    "kernelspec": {
      "name": "python3",
      "display_name": "Python 3"
    },
    "language_info": {
      "name": "python"
    }
  },
  "cells": [
    {
      "cell_type": "markdown",
      "source": [
        "**STACK**"
      ],
      "metadata": {
        "id": "ps8fJsTrs3Oe"
      }
    },
    {
      "cell_type": "code",
      "execution_count": 1,
      "metadata": {
        "colab": {
          "base_uri": "https://localhost:8080/"
        },
        "id": "b02ze7NZraNy",
        "outputId": "449f0df5-cdd3-4b26-c502-15b0fa38c091"
      },
      "outputs": [
        {
          "output_type": "stream",
          "name": "stdout",
          "text": [
            "Initial Stack\n",
            "['a', 'b', 'c']\n"
          ]
        }
      ],
      "source": [
        "stack = list ()\n",
        "stack.append ('a')\n",
        "stack.append ('b')\n",
        "stack.append ('c')\n",
        "print ('Initial Stack')\n",
        "print (stack)"
      ]
    },
    {
      "cell_type": "code",
      "source": [
        "print (stack.pop ())\n",
        "print (stack.pop ())\n",
        "print (stack.pop ())\n",
        "print (stack)"
      ],
      "metadata": {
        "colab": {
          "base_uri": "https://localhost:8080/"
        },
        "id": "boHnivBNrrEv",
        "outputId": "a1862cf2-443f-422d-f4d6-03f06dec202e"
      },
      "execution_count": 2,
      "outputs": [
        {
          "output_type": "stream",
          "name": "stdout",
          "text": [
            "c\n",
            "b\n",
            "a\n",
            "[]\n"
          ]
        }
      ]
    },
    {
      "cell_type": "code",
      "source": [
        "def maxDepth(s: str) -> int:\n",
        "    max_depth = 0\n",
        "    current_depth = 0\n",
        "\n",
        "    for char in s:\n",
        "        if char == '(':\n",
        "            current_depth += 1\n",
        "            max_depth = max(max_depth, current_depth)\n",
        "        elif char == ')':\n",
        "            current_depth -= 1\n",
        "\n",
        "    return max_depth\n"
      ],
      "metadata": {
        "id": "eynxTlHWrwUd"
      },
      "execution_count": 3,
      "outputs": []
    },
    {
      "cell_type": "code",
      "source": [
        "print(maxDepth(\"(1+(2*3)+((8)/4))+1\"))\n",
        "print(maxDepth(\"(1)+((2))+(((3)))\"))\n",
        "print(maxDepth(\"()(())((()()))\"))\n"
      ],
      "metadata": {
        "colab": {
          "base_uri": "https://localhost:8080/"
        },
        "id": "-91vLHIxr0EW",
        "outputId": "067fc650-e923-4f36-f7a7-a7ed4599aafd"
      },
      "execution_count": 4,
      "outputs": [
        {
          "output_type": "stream",
          "name": "stdout",
          "text": [
            "3\n",
            "3\n",
            "3\n"
          ]
        }
      ]
    },
    {
      "cell_type": "code",
      "source": [
        "class StackDepth:\n",
        "    def depth(self, str: str) -> int:\n",
        "        max_dep, curr_dept = 0, 0\n",
        "\n",
        "        for char in str:\n",
        "            if char == '(':\n",
        "                curr_dept += 1\n",
        "                max_dep = max(curr_dept, max_dep)\n",
        "            elif char == ')':\n",
        "                curr_dept -= 1\n",
        "\n",
        "        return max_dep\n",
        "\n",
        "stack_input = list(input(\"\\nEnter the elements in the stack (e.g., '(()())'): \"))\n",
        "print(\"The stack is:\", stack_input)\n",
        "\n",
        "stack_depth_calculator = StackDepth()\n",
        "print(\"The depth of the '()' is:\", stack_depth_calculator.depth(stack_input))\n"
      ],
      "metadata": {
        "colab": {
          "base_uri": "https://localhost:8080/"
        },
        "id": "Dz_HoH7OsrgN",
        "outputId": "791b29e6-e440-4c11-a089-f3ec939d6cca"
      },
      "execution_count": 6,
      "outputs": [
        {
          "output_type": "stream",
          "name": "stdout",
          "text": [
            "\n",
            "Enter the elements in the stack (e.g., '(()())'): (1+(2*3)+((8)/4))+1\n",
            "The stack is: ['(', '1', '+', '(', '2', '*', '3', ')', '+', '(', '(', '8', ')', '/', '4', ')', ')', '+', '1']\n",
            "The depth of the '()' is: 3\n"
          ]
        }
      ]
    }
  ]
}