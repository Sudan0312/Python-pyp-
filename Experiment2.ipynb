{
  "metadata": {
    "kernelspec": {
      "name": "python",
      "display_name": "Python (Pyodide)",
      "language": "python"
    },
    "language_info": {
      "codemirror_mode": {
        "name": "python",
        "version": 3
      },
      "file_extension": ".py",
      "mimetype": "text/x-python",
      "name": "python",
      "nbconvert_exporter": "python",
      "pygments_lexer": "ipython3",
      "version": "3.8"
    }
  },
  "nbformat_minor": 5,
  "nbformat": 4,
  "cells": [
    {
      "id": "28d3a4ce-4b34-40a2-ba66-4a241ba2df51",
      "cell_type": "markdown",
      "source": "### Experiment 2",
      "metadata": {}
    },
    {
      "id": "28e358f9-fdc4-4a74-bf17-1d5450f05152",
      "cell_type": "code",
      "source": "class Employee:\n    def __init__ (\n            self,\n            designation : str = 'Developer',\n            frontend : bool = False,\n            backend : bool = True\n    ):\n        self.designation = designation\n        self.frontend = frontend\n        self.backend = backend\n\n    def __repr__ (self):\n        return '{}'.format (self.designation, self.frontend, self.backend)\n    \n    def verifier (self):\n        if self.frontend and self.backend:\n            return \"Full-stack developer\"\n        elif self.frontend:\n            return \"Frontend Developer\"\n        elif self.backend:\n            return \"Backend Developer\"\n        else:\n            return \"Not a Developer\"\nif __name__ == '__main__':\n    firstEmployee = Employee()\n    print(firstEmployee.verifier())\n\n",
      "metadata": {
        "trusted": true
      },
      "outputs": [
        {
          "name": "stdout",
          "output_type": "stream",
          "text": "Backend Developer\n"
        }
      ],
      "execution_count": 2
    },
    {
      "id": "865367c6-43f4-44d5-908b-c9f266928bcb",
      "cell_type": "code",
      "source": "",
      "metadata": {
        "trusted": true
      },
      "outputs": [],
      "execution_count": null
    }
  ]
}