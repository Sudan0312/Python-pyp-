{
  "metadata": {
    "kernelspec": {
      "name": "python",
      "display_name": "Python (Pyodide)",
      "language": "python"
    },
    "language_info": {
      "codemirror_mode": {
        "name": "python",
        "version": 3
      },
      "file_extension": ".py",
      "mimetype": "text/x-python",
      "name": "python",
      "nbconvert_exporter": "python",
      "pygments_lexer": "ipython3",
      "version": "3.8"
    }
  },
  "nbformat_minor": 5,
  "nbformat": 4,
  "cells": [
    {
      "id": "9c78b1f6-11a8-4bcc-b0c5-7dc66b9c5b98",
      "cell_type": "markdown",
      "source": "### Sudan Tiwari, Experiment No 1",
      "metadata": {}
    },
    {
      "id": "c60f4b79-a630-4ace-896f-695d0f484d9b",
      "cell_type": "markdown",
      "source": "### String in Python",
      "metadata": {}
    },
    {
      "id": "9ded34e1-5f1b-492d-b532-5e4f4b6adeae",
      "cell_type": "code",
      "source": "a = 'moon'\nprint (a)\nb = \"is\"\nprint (b)\nc= '''Beautiful'''\nprint (c)",
      "metadata": {
        "trusted": true
      },
      "outputs": [
        {
          "name": "stdout",
          "output_type": "stream",
          "text": "moon\nis\nBeautiful\n"
        }
      ],
      "execution_count": 4
    },
    {
      "id": "2af73c26-e7e6-43ca-b176-065577bda39c",
      "cell_type": "markdown",
      "source": "### Lists in Python",
      "metadata": {}
    },
    {
      "id": "a93b7bc0-539e-4ad6-b2fc-cb7ab714e4af",
      "cell_type": "code",
      "source": "List = [1, \"a\" , \"string\" , 1+2,0.4,\"hi\"]\nprint (List)\n#Adding an element in the list\nList.append(6) \nprint (L)\n#Deleting last element from a list\nList.pop()\nList.pop()\nprint (List)\n#Displaying Second element of the list\nprint (List[4])",
      "metadata": {
        "trusted": true
      },
      "outputs": [
        {
          "name": "stdout",
          "output_type": "stream",
          "text": "[1, 'a', 'string', 3, 0.4, 'hi']\n[1, 'a', 'string', 3, 'hi', 2.4]\n[1, 'a', 'string', 3, 0.4]\n0.4\n"
        }
      ],
      "execution_count": 9
    },
    {
      "id": "7ec47404-4138-4111-bd15-153749d99b25",
      "cell_type": "markdown",
      "source": "### Tuples in Python",
      "metadata": {}
    },
    {
      "id": "185e2ef8-1c1b-47c3-b13c-f8a562466503",
      "cell_type": "code",
      "source": "tuple = (2345, \"a\", \"string\", 6-2, 0.7, \"goodmorning\" \"hello\")\nprint(tuple)\nprint(tuple[1])\n",
      "metadata": {
        "trusted": true
      },
      "outputs": [
        {
          "name": "stdout",
          "output_type": "stream",
          "text": "(2345, 'a', 'string', 4, 0.7, 'goodmorninghello')\na\n"
        }
      ],
      "execution_count": 13
    },
    {
      "id": "bf973c5c-c5fe-437d-b186-838f84e59b42",
      "cell_type": "markdown",
      "source": "### Dictionaries in Python",
      "metadata": {}
    },
    {
      "id": "c9abdfec-6c91-4638-b7e9-12d00f31b608",
      "cell_type": "code",
      "source": "d = {1: 'Lorem', 2: 'Ipsum', 3: 'Dolerum'}\nprint(d)",
      "metadata": {
        "trusted": true
      },
      "outputs": [
        {
          "name": "stdout",
          "output_type": "stream",
          "text": "{1: 'Lorem', 2: 'Ipsum', 3: 'Dolerum'}\n"
        }
      ],
      "execution_count": 14
    },
    {
      "id": "a53b827a-24ac-486a-abaa-d2896604844f",
      "cell_type": "markdown",
      "source": "### Create a Dictionary",
      "metadata": {}
    },
    {
      "id": "3211a61b-2d31-43d7-aa0e-b1a365a88d8e",
      "cell_type": "code",
      "source": "# create dictionary using { }\nd1 = {1: 'Game', 2: 'of', 3: 'Thrones'}\nprint(d1)\n\n# create dictionary using dict() constructor\nd2 = dict(a = \"House\", b = \"of\", c = \"Cards\")\nprint(d2)",
      "metadata": {
        "trusted": true
      },
      "outputs": [
        {
          "name": "stdout",
          "output_type": "stream",
          "text": "{1: 'Game', 2: 'of', 3: 'Thrones'}\n{'a': 'House', 'b': 'of', 'c': 'Cards'}\n"
        }
      ],
      "execution_count": 21
    },
    {
      "id": "7b4d7b18-10e8-45d9-929d-c89936e63060",
      "cell_type": "markdown",
      "source": "### Accessing Dictionary Items",
      "metadata": {}
    },
    {
      "id": "fb855aa8-2da9-42d4-b47e-3e19d852d03e",
      "cell_type": "code",
      "source": "d = { \"name\": \"Alice\", 1: \"Python\", (1, 2): [1,2,4] }\n\n# Access using key\nprint(d[\"name\"])\n\n# Access using get()\nprint(d.get(\"name\"))\n",
      "metadata": {
        "trusted": true
      },
      "outputs": [
        {
          "name": "stdout",
          "output_type": "stream",
          "text": "Alice\nAlice\n"
        }
      ],
      "execution_count": 23
    },
    {
      "id": "04501857-e0be-4ba4-ba4a-698a2bbe1658",
      "cell_type": "markdown",
      "source": "### Adding and Updating Dictionary Items",
      "metadata": {}
    },
    {
      "id": "775d2b10-c752-4a6b-bccf-67c0d3400055",
      "cell_type": "code",
      "source": "d = {1: 'Game', 2: 'of', 3: 'Thrones'}\n\n# Adding a new key-value pair\nd[\"age\"] = 22\n\n# Updating an existing value\nd[1] = \"Python dict\"\n\nprint(d)",
      "metadata": {
        "trusted": true
      },
      "outputs": [
        {
          "name": "stdout",
          "output_type": "stream",
          "text": "{1: 'Python dict', 2: 'of', 3: 'Thrones', 'age': 22}\n"
        }
      ],
      "execution_count": 24
    },
    {
      "id": "510057b2-050c-41ef-bed7-3dc837ae8228",
      "cell_type": "markdown",
      "source": "### Clear a Dictionary",
      "metadata": {}
    },
    {
      "id": "6de9cc94-2242-4e75-9d3a-175a94545083",
      "cell_type": "code",
      "source": "my_dict = {'1': 'Geeks', '2': 'For', '3': 'Geeks'}\nmy_dict.clear()\nprint(my_dict)",
      "metadata": {
        "trusted": true
      },
      "outputs": [
        {
          "name": "stdout",
          "output_type": "stream",
          "text": "{}\n"
        }
      ],
      "execution_count": 15
    },
    {
      "id": "90c455a9-3975-421d-8071-90d487c5fabd",
      "cell_type": "markdown",
      "source": "### Dictionary update() Method",
      "metadata": {}
    },
    {
      "id": "b730d429-059f-4e11-a332-7fc498bd7bcf",
      "cell_type": "code",
      "source": "d1 = {'Name': 'Ram', 'Age': '19', 'Country': 'India'}\nd2 = {'Name': 'Neha', 'Age': '22'}\n\nd1.update(d2)\nprint(d1)",
      "metadata": {
        "trusted": true
      },
      "outputs": [
        {
          "name": "stdout",
          "output_type": "stream",
          "text": "{'Name': 'Neha', 'Age': '22', 'Country': 'India'}\n"
        }
      ],
      "execution_count": 16
    },
    {
      "id": "a41731e0-c31b-4ec0-8227-ae2118aa45a3",
      "cell_type": "markdown",
      "source": "### Dictionary pop() Method",
      "metadata": {}
    },
    {
      "id": "7a2454b6-6b3f-40f9-9400-af920f0938fe",
      "cell_type": "code",
      "source": "d = {'Name': 'Ram', 'Age': '19', 'Country': 'India'}\nd.pop('Age')\nprint(d)",
      "metadata": {
        "trusted": true
      },
      "outputs": [
        {
          "name": "stdout",
          "output_type": "stream",
          "text": "{'Name': 'Ram', 'Country': 'India'}\n"
        }
      ],
      "execution_count": 17
    },
    {
      "id": "56ae8a8b-4fd4-450b-aa84-d2200ce58140",
      "cell_type": "markdown",
      "source": "### Dictionary values() Method",
      "metadata": {}
    },
    {
      "id": "c244c8de-93e3-4ffe-b00d-c20b932d265a",
      "cell_type": "code",
      "source": "d = {'Name': 'Ram', 'Age': '19', 'Country': 'India'}\nprint(list(d.values()))",
      "metadata": {
        "trusted": true
      },
      "outputs": [
        {
          "name": "stdout",
          "output_type": "stream",
          "text": "['Ram', '19', 'India']\n"
        }
      ],
      "execution_count": 19
    },
    {
      "id": "13e65b5f-42c9-411d-ba22-ddc58d02645e",
      "cell_type": "markdown",
      "source": "### Dictionary keys() Method",
      "metadata": {}
    },
    {
      "id": "e9233cb3-0619-4a07-a528-022e84065044",
      "cell_type": "code",
      "source": "d = {'Name': 'Ram', 'Age': '19', 'Country': 'India'}\nprint(list(d.keys()))",
      "metadata": {
        "trusted": true
      },
      "outputs": [
        {
          "name": "stdout",
          "output_type": "stream",
          "text": "['Name', 'Age', 'Country']\n"
        }
      ],
      "execution_count": 20
    },
    {
      "id": "568ce067-cce7-4635-a157-50775cc88d8c",
      "cell_type": "code",
      "source": "",
      "metadata": {
        "trusted": true
      },
      "outputs": [],
      "execution_count": null
    }
  ]
}